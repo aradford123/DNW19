{
 "cells": [
  {
   "cell_type": "markdown",
   "metadata": {},
   "source": [
    "# DNA Center SDK"
   ]
  },
  {
   "cell_type": "code",
   "execution_count": null,
   "metadata": {},
   "outputs": [],
   "source": [
    "from dnac_config import DNAC, DNAC_PORT\n",
    "import json\n",
    "\n",
    "# this is only requiired for proxy change\n",
    "import requests\n",
    "requests.packages.urllib3.disable_warnings()\n",
    "print(DNAC)"
   ]
  },
  {
   "cell_type": "code",
   "execution_count": null,
   "metadata": {},
   "outputs": [],
   "source": [
    "from dnacentersdk import api"
   ]
  },
  {
   "cell_type": "code",
   "execution_count": null,
   "metadata": {},
   "outputs": [],
   "source": [
    "# only need to verify=False as going to change thte base_url later due to proxy\n",
    "dnac = api.DNACenterAPI(username=\"devnetuser\",\n",
    "                        password=\"Cisco123!\",\n",
    "                        base_url=\"https://{}:443\".format(DNAC),verify=False)\n",
    "print(dnac.base_url)"
   ]
  },
  {
   "cell_type": "code",
   "execution_count": null,
   "metadata": {},
   "outputs": [],
   "source": [
    "devices = dnac.devices.get_device_list()"
   ]
  },
  {
   "cell_type": "markdown",
   "metadata": {},
   "source": [
    "#### By default the object that is returned can be rendered as a json.dict"
   ]
  },
  {
   "cell_type": "code",
   "execution_count": null,
   "metadata": {},
   "outputs": [],
   "source": [
    "print(json.dumps(devices,indent=2))"
   ]
  },
  {
   "cell_type": "code",
   "execution_count": null,
   "metadata": {},
   "outputs": [],
   "source": [
    "# old way.. json attributes\n",
    "data = \", \".join([ \"{}:{}\".format(dev['managementIpAddress'],dev['platformId'])\n",
    "                  for dev in devices['response']])"
   ]
  },
  {
   "cell_type": "markdown",
   "metadata": {},
   "source": [
    "#### Example of an object"
   ]
  },
  {
   "cell_type": "code",
   "execution_count": null,
   "metadata": {},
   "outputs": [],
   "source": [
    "# new way... objects  dev.managementIpAddress vs dev['managementIpAddress']\n",
    "data = \", \".join([ \"{}:{}\".format(dev.managementIpAddress,dev.platformId)\n",
    "                  for dev in devices.response])"
   ]
  },
  {
   "cell_type": "code",
   "execution_count": null,
   "metadata": {},
   "outputs": [],
   "source": [
    "print(data)"
   ]
  },
  {
   "cell_type": "markdown",
   "metadata": {},
   "source": [
    "## Templates"
   ]
  },
  {
   "cell_type": "code",
   "execution_count": null,
   "metadata": {},
   "outputs": [],
   "source": [
    "templates = dnac.template_programmer.gets_the_templates_available()"
   ]
  },
  {
   "cell_type": "code",
   "execution_count": null,
   "metadata": {},
   "outputs": [],
   "source": [
    "template = [ t for t in templates if t.projectName == \"switching\" and t.name == \"interface-des\"][0]"
   ]
  },
  {
   "cell_type": "code",
   "execution_count": null,
   "metadata": {},
   "outputs": [],
   "source": [
    "print(json.dumps(template, indent=2))"
   ]
  },
  {
   "cell_type": "code",
   "execution_count": null,
   "metadata": {},
   "outputs": [],
   "source": [
    "# this is the ID of the template object.\n",
    "templateId= template['templateId']\n"
   ]
  },
  {
   "cell_type": "code",
   "execution_count": null,
   "metadata": {},
   "outputs": [],
   "source": [
    "print(templateId)"
   ]
  },
  {
   "cell_type": "code",
   "execution_count": null,
   "metadata": {},
   "outputs": [],
   "source": [
    "# this will find the latest version of the template (inside the object).  NOTE The ID are different..\n",
    "latest_id = 0\n",
    "max = 0\n",
    "for v in template['versionsInfo']:\n",
    "    if int(v['version']) > max:\n",
    "        max = int(v['version'])\n",
    "        latest_id = v['id']\n",
    "print(latest_id)"
   ]
  },
  {
   "cell_type": "code",
   "execution_count": null,
   "metadata": {},
   "outputs": [],
   "source": [
    "# the master template contains the vars required, and the body of the template.\n",
    "templateData = dnac.template_programmer.get_template_details(template_id=templateId)\n"
   ]
  },
  {
   "cell_type": "code",
   "execution_count": null,
   "metadata": {},
   "outputs": [],
   "source": [
    "print(json.dumps(templateData, indent=2))"
   ]
  },
  {
   "cell_type": "code",
   "execution_count": null,
   "metadata": {},
   "outputs": [],
   "source": [
    "payload = {\n",
    "    \"templateId\": latest_id,\n",
    "    \"forcePushTemplate\" : True,\n",
    "    \"targetInfo\": [\n",
    "     {\n",
    "\n",
    "        \"id\": \"10.10.20.81\",\n",
    "        \"type\": \"MANAGED_DEVICE_IP\",\n",
    "        \"params\": {\"description\": \"my Desc\", \"interface\":\"g1/0/12\"}\n",
    "        }\n",
    "     ]\n",
    "    }"
   ]
  },
  {
   "cell_type": "code",
   "execution_count": null,
   "metadata": {},
   "outputs": [],
   "source": [
    "# this is a hack for the proxy in sandbox.  means we can use RW API with RO creds.  #primativeRBAC\n",
    "dnac.base_url=\"https://sandboxdnac2.cisco.com:8080\"\n"
   ]
  },
  {
   "cell_type": "code",
   "execution_count": null,
   "metadata": {},
   "outputs": [],
   "source": [
    "deployment= dnac.template_programmer.deploy_template(payload=payload)"
   ]
  },
  {
   "cell_type": "code",
   "execution_count": null,
   "metadata": {},
   "outputs": [],
   "source": [
    "print (json.dumps(deployment,indent=2))"
   ]
  },
  {
   "cell_type": "code",
   "execution_count": null,
   "metadata": {},
   "outputs": [],
   "source": [
    "deploymentId = deployment.deploymentId.split(\":\")[-1].strip()\n",
    "print(deploymentId)"
   ]
  },
  {
   "cell_type": "code",
   "execution_count": null,
   "metadata": {},
   "outputs": [],
   "source": [
    "status = dnac.template_programmer.get_template_deployment_status(deploymentId)"
   ]
  },
  {
   "cell_type": "code",
   "execution_count": null,
   "metadata": {},
   "outputs": [],
   "source": [
    "print(json.dumps(status,indent=2))"
   ]
  },
  {
   "cell_type": "code",
   "execution_count": null,
   "metadata": {},
   "outputs": [],
   "source": []
  },
  {
   "cell_type": "code",
   "execution_count": null,
   "metadata": {},
   "outputs": [],
   "source": []
  }
 ],
 "metadata": {
  "kernelspec": {
   "display_name": "Python 3",
   "language": "python",
   "name": "python3"
  },
  "language_info": {
   "codemirror_mode": {
    "name": "ipython",
    "version": 3
   },
   "file_extension": ".py",
   "mimetype": "text/x-python",
   "name": "python",
   "nbconvert_exporter": "python",
   "pygments_lexer": "ipython3",
   "version": "3.7.2"
  }
 },
 "nbformat": 4,
 "nbformat_minor": 2
}
